{
 "cells": [
  {
   "cell_type": "markdown",
   "id": "b6e84158-0647-4439-a4f6-bfbe592c9dca",
   "metadata": {},
   "source": [
    "## Preparing a Lookalike Model "
   ]
  },
  {
   "cell_type": "markdown",
   "id": "105a262f-a584-42a7-baa3-33df168e51fc",
   "metadata": {},
   "source": [
    "#### Loading the datasets"
   ]
  },
  {
   "cell_type": "code",
   "execution_count": null,
   "id": "40ec7c03-72e5-49c7-b46b-af9138e1ba0a",
   "metadata": {},
   "outputs": [],
   "source": [
    "import pandas as pd\n",
    "customers_file = './customers.csv'\n",
    "products_file = './products.csv'\n",
    "transactions_file = './transaction.csv'\n",
    "customers = pd.read_csv(customers_file)\n",
    "products = pd.read_csv(products_file)\n",
    "transactions = pd.read_csv(transactions_file)\n",
    "# Displaying the first few rows of each dataset\n",
    "customers.head(), products.head(), transactions.head()\n"
   ]
  },
  {
   "cell_type": "markdown",
   "id": "42663001-4cf0-4e40-8dfb-35fa5f952224",
   "metadata": {},
   "source": [
    "#### Preprocessing data and merge datasets"
   ]
  },
  {
   "cell_type": "code",
   "execution_count": null,
   "id": "17288b82-808a-42c2-8c23-eb6738073711",
   "metadata": {},
   "outputs": [],
   "source": [
    "# Converting dates to datetime format \n",
    "customers[\"SignupDate\"] = pd.to_datetime(customers[\"SignupDate\"], format=\"%d-%m-%Y\", errors=\"coerce\")\n",
    "transactions[\"TransactionDate\"] = pd.to_datetime(transactions[\"TransactionDate\"], format=\"%d-%m-%Y %H:%M\", errors=\"coerce\")\n",
    "transactions_products = pd.merge(transactions, products, on=\"ProductID\", how=\"left\")\n",
    "full_data = pd.merge(transactions_products, customers, on=\"CustomerID\", how=\"left\")\n",
    "# Displaying a sample of the merged dataset\n",
    "full_data.head()\n"
   ]
  },
  {
   "cell_type": "markdown",
   "id": "6e4871e6-d439-4ed5-bc17-d30f96a8c796",
   "metadata": {},
   "source": [
    "#### Feature engineering"
   ]
  },
  {
   "cell_type": "markdown",
   "id": "8d7e3ddc-c12d-4aae-9747-516211f179b5",
   "metadata": {},
   "source": [
    "Feature engineering is the process of transforming raw data into meaningful features that improve the performance of machine learning models. It involves selecting, modifying, or creating new features from existing data to make patterns and insights more accessible to algorithms. This process is critical for ensuring that the model can effectively learn from the data."
   ]
  },
  {
   "cell_type": "code",
   "execution_count": null,
   "id": "1697d3a3-bf2b-4a91-89dc-2bec67e67b65",
   "metadata": {},
   "outputs": [],
   "source": [
    "# Total spending and number of transactions per customer\n",
    "customer_spending = full_data.groupby(\"CustomerID\").agg(\n",
    "    total_spent=(\"TotalValue\", \"sum\"),\n",
    "    num_transactions=(\"TransactionID\", \"count\"),\n",
    "    avg_transaction_value=(\"TotalValue\", \"mean\")\n",
    ").reset_index()\n",
    "# Preferred product categories by the proportion of purchases in each category\n",
    "category_preferences = pd.crosstab(full_data[\"CustomerID\"], full_data[\"Category\"], normalize=\"index\")\n",
    "# Merging spending and category preferences into a single dataset\n",
    "customer_features = pd.merge(customer_spending, category_preferences, on=\"CustomerID\", how=\"left\")\n",
    "# Displaying the processed customer features\n",
    "customer_features.head()\n"
   ]
  },
  {
   "cell_type": "raw",
   "id": "b97b7cbf-c90c-438f-b345-32350b087612",
   "metadata": {},
   "source": [
    "1 - Normalization (using MinMaxScaler) ensures features contribute equally to similarity computation by scaling them to the same range.\n",
    "2 - Cosine Similarity is used to compare the direction of feature vectors, effectively identifying customers with similar behavior patterns.\n",
    "3 - The similarity matrix provides a structured way to map and analyze customer similarities, enabling advanced insights like personalized recommendations or segmentation."
   ]
  },
  {
   "cell_type": "markdown",
   "id": "b4974334-d616-4a7c-b1cc-c433eddf7edd",
   "metadata": {},
   "source": [
    "#### Why MinMaxScaler ?"
   ]
  },
  {
   "cell_type": "markdown",
   "id": "4f6f133d-54e3-4a5e-bbf7-31493dabcecd",
   "metadata": {},
   "source": [
    "MinMaxScaler is chosen because it ensures consistent scaling within a fixed range, making it ideal for cosine similarity, which relies on uniform feature representation. Other techniques may introduce issues such as negative values, inconsistent scaling, or sensitivity to outliers, making them less suitable for this specific task."
   ]
  },
  {
   "cell_type": "code",
   "execution_count": null,
   "id": "560ac7e8-8ba7-4944-93e3-83804286ccdc",
   "metadata": {},
   "outputs": [],
   "source": [
    "from sklearn.preprocessing import MinMaxScaler\n",
    "from sklearn.metrics.pairwise import cosine_similarity\n",
    "import numpy as np\n",
    "\n",
    "# Normalizing features \n",
    "scaler = MinMaxScaler()\n",
    "normalized_features = scaler.fit_transform(customer_features.iloc[:, 1:])  # Exclude CustomerID\n",
    "\n",
    "# Computing cosine similarity between customers\n",
    "similarity_matrix = cosine_similarity(normalized_features)\n",
    "\n",
    "# Creating a dataFrame to map customers to their similarities\n",
    "similarity_df = pd.DataFrame(similarity_matrix, index=customer_features[\"CustomerID\"], columns=customer_features[\"CustomerID\"])\n"
   ]
  },
  {
   "cell_type": "code",
   "execution_count": null,
   "id": "5e303d47-35b1-40b6-9eb9-5f39e907db0f",
   "metadata": {},
   "outputs": [],
   "source": [
    "# Get the top 3 similar customers for each of the first 20 customers\n",
    "top_20_customers = customer_features[\"CustomerID\"][:20]\n",
    "lookalike_results = {}\n",
    "for cust_id in top_20_customers:\n",
    "    similar_customers = (\n",
    "        similarity_df[cust_id]\n",
    "        .sort_values(ascending=False)\n",
    "        .iloc[1:4] \n",
    "    )\n",
    "    lookalike_results[cust_id] = list(zip(similar_customers.index, similar_customers.values))\n",
    "# Convert the results to the csv format \n",
    "lookalike_output = pd.DataFrame({\n",
    "    \"CustomerID\": lookalike_results.keys(),\n",
    "    \"Top_Lookalikes\": [str(v) for v in lookalike_results.values()]\n",
    "})\n",
    "lookalike_output.head()\n"
   ]
  },
  {
   "cell_type": "markdown",
   "id": "dcf04429-4cef-4fef-9092-96a79a5ae660",
   "metadata": {},
   "source": [
    "#### Calculating the average similarity "
   ]
  },
  {
   "cell_type": "code",
   "execution_count": null,
   "id": "3d1ff473-077a-4205-9a94-82723c980ecc",
   "metadata": {},
   "outputs": [],
   "source": [
    "average_similarity = []\n",
    "for cust_id in top_20_customers:\n",
    "    similar_customers = similarity_df[cust_id].sort_values(ascending=False).iloc[1:4]\n",
    "    average_similarity.append(similar_customers.mean())\n",
    "\n",
    "# Display the overall average similarity\n",
    "overall_average_similarity = np.mean(average_similarity)\n",
    "print(f\"Overall Average Similarity for Top 3 Recommendations: {overall_average_similarity:.2f}\")\n"
   ]
  },
  {
   "cell_type": "markdown",
   "id": "147ccceb-3f2e-45bc-b56b-f6aad0f973fd",
   "metadata": {},
   "source": [
    "#### Saving the output in a new csv file"
   ]
  },
  {
   "cell_type": "code",
   "execution_count": null,
   "id": "88ec3f02-c90d-4e3e-be55-03d1190e560c",
   "metadata": {},
   "outputs": [],
   "source": [
    "# Save the lookalike results to a CSV file\n",
    "output_file = \"Fayaz_Hussain_Lookalike.csv\"\n",
    "lookalike_output.to_csv(output_file, index=False)\n",
    "print(f\"Lookalike results saved to {output_file}\")"
   ]
  }
 ],
 "metadata": {
  "kernelspec": {
   "display_name": "Python 3 (ipykernel)",
   "language": "python",
   "name": "python3"
  },
  "language_info": {
   "codemirror_mode": {
    "name": "ipython",
    "version": 3
   },
   "file_extension": ".py",
   "mimetype": "text/x-python",
   "name": "python",
   "nbconvert_exporter": "python",
   "pygments_lexer": "ipython3",
   "version": "3.8.19"
  }
 },
 "nbformat": 4,
 "nbformat_minor": 5
}
